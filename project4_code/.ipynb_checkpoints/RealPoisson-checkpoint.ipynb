{
 "metadata": {
  "name": "",
  "signature": "sha256:a3f7269ddd3ca4492d9a61f555dbc22c64f352705ba9a2d48fd880eb57422018"
 },
 "nbformat": 3,
 "nbformat_minor": 0,
 "worksheets": [
  {
   "cells": [
    {
     "cell_type": "code",
     "collapsed": false,
     "input": [
      "import numpy as np\n",
      "import matplotlib.pyplot as plt\n",
      "from scipy.sparse import diags\n",
      "from scipy.sparse import vstack\n",
      "from scipy.sparse.linalg import lsqr\n",
      "\n",
      "from image_io import *\n",
      "from get_mask import *\n",
      "from align_images import *"
     ],
     "language": "python",
     "metadata": {},
     "outputs": [],
     "prompt_number": 1
    },
    {
     "cell_type": "code",
     "collapsed": false,
     "input": [
      "# Load images\n",
      "fpath = './images/'\n",
      "s_fname = 'lego.jpg'\n",
      "t_fname = 'landscape.jpg'\n",
      "s = image_open(fpath, s_fname)\n",
      "t = image_open(fpath, t_fname)"
     ],
     "language": "python",
     "metadata": {},
     "outputs": [],
     "prompt_number": 2
    },
    {
     "cell_type": "code",
     "collapsed": false,
     "input": [
      "s, s_mask, tinyt, tinyt_topleft = align_images(s, t)"
     ],
     "language": "python",
     "metadata": {},
     "outputs": [],
     "prompt_number": 3
    },
    {
     "cell_type": "code",
     "collapsed": false,
     "input": [
      "def shift(m, direction):\n",
      "    padded = np.pad(m, [(d, 0) if d>0 else (0, -d) for d in direction], mode='constant')\n",
      "    return padded[[np.s_[:sh] if d>0 else np.s_[-sh:] for sh, d in zip(m.shape, direction)]]\n",
      "def inside(mask):\n",
      "    return shift(mask, (-1, 0)) & shift(mask, (0, -1)) & shift(mask, (1, 0)) & shift(mask, (0, 1))"
     ],
     "language": "python",
     "metadata": {},
     "outputs": [],
     "prompt_number": 4
    },
    {
     "cell_type": "code",
     "collapsed": false,
     "input": [
      "s_inside = inside(s_mask)\n",
      "s_border = s_mask & ~s_inside\n",
      "s_outside = ~s_inside"
     ],
     "language": "python",
     "metadata": {},
     "outputs": [],
     "prompt_number": 5
    },
    {
     "cell_type": "code",
     "collapsed": false,
     "input": [
      "def construct_A4(s, s_border=[[]]):\n",
      "    imh, imw = s.shape\n",
      "    sy, sx = np.where(s_border)\n",
      "    npx = imh*imw\n",
      "                 # [x,x+1], [x,x-1], [y,y+1], [y,y-1]\n",
      "    all_offsets = [[0, -1], [0, 1], [0, -imw], [0, imw]]\n",
      "    As = []\n",
      "    for offset in all_offsets:\n",
      "        A = diags(\n",
      "            diagonals=[1, -1],\n",
      "            offsets=offset,\n",
      "            shape=[npx, npx],\n",
      "            format='csr',\n",
      "            dtype=float)\n",
      "        r, c = (A[imw*sy + sx, :] < 0).nonzero()\n",
      "        A[(imw*sy + sx)[r], c] = 0\n",
      "        r, c = A[imw*sy + sx, :].nonzero()\n",
      "        As.append(A)\n",
      "    return vstack(As)"
     ],
     "language": "python",
     "metadata": {},
     "outputs": [],
     "prompt_number": 6
    },
    {
     "cell_type": "code",
     "collapsed": false,
     "input": [
      "def set_b(b, mask, values):\n",
      "    bigmask = np.concatenate([mask, mask, mask, mask])\n",
      "    b[bigmask] = values[bigmask]\n",
      "    return b"
     ],
     "language": "python",
     "metadata": {},
     "outputs": [],
     "prompt_number": 69
    },
    {
     "cell_type": "code",
     "collapsed": false,
     "input": [
      "A4 = construct_A4(s)\n",
      "t_prime = A4.dot(tinyt.ravel())\n",
      "s_prime = A4.dot(s.ravel())\n",
      "\n",
      "max_prime = np.maximum(s_prime, t_prime)\n",
      "\n",
      "b = t_prime.copy()\n",
      "b = set_b(b, s_inside.ravel(), max_prime)\n",
      "tinyt_values = np.concatenate([tinyt.ravel(), tinyt.ravel(), tinyt.ravel(), tinyt.ravel()])\n",
      "b = set_b(b, s_border.ravel(), tinyt_values)\n",
      "\n",
      "A4 = construct_A4(s, s_border=s_border)"
     ],
     "language": "python",
     "metadata": {},
     "outputs": [],
     "prompt_number": 83
    },
    {
     "cell_type": "code",
     "collapsed": false,
     "input": [
      "imh, imw = s.shape\n",
      "v = lsqr(A4, b)[0]\n",
      "out = v.reshape((imh, imw))"
     ],
     "language": "python",
     "metadata": {},
     "outputs": [],
     "prompt_number": 84
    },
    {
     "cell_type": "code",
     "collapsed": false,
     "input": [
      "plt.imshow(out, cmap='gray', vmin=0, vmax=1)\n",
      "plt.show()"
     ],
     "language": "python",
     "metadata": {},
     "outputs": [],
     "prompt_number": 85
    },
    {
     "cell_type": "code",
     "collapsed": false,
     "input": [
      "tttly, tttlx = tinyt_topleft\n",
      "tty, ttx = tinyt.shape\n",
      "t[tttly:tttly + tty, tttlx:tttlx + ttx] = out\n",
      "#plt.imshow(t, cmap='gray', vmin=0, vmax=1)\n",
      "#plt.show()\n",
      "image_save('./output/','soAWESOME.jpg', t)"
     ],
     "language": "python",
     "metadata": {},
     "outputs": [],
     "prompt_number": 82
    },
    {
     "cell_type": "code",
     "collapsed": false,
     "input": [],
     "language": "python",
     "metadata": {},
     "outputs": [],
     "prompt_number": 40
    },
    {
     "cell_type": "code",
     "collapsed": false,
     "input": [],
     "language": "python",
     "metadata": {},
     "outputs": [],
     "prompt_number": 13
    },
    {
     "cell_type": "code",
     "collapsed": false,
     "input": [],
     "language": "python",
     "metadata": {},
     "outputs": []
    }
   ],
   "metadata": {}
  }
 ]
}