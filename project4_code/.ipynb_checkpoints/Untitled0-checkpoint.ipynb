{
 "metadata": {
  "name": "",
  "signature": "sha256:b09c484597f928b3657b4923e7db56144ac22cf2df2e8ebea5276943c8119707"
 },
 "nbformat": 3,
 "nbformat_minor": 0,
 "worksheets": []
}